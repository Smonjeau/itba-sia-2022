{
 "cells": [
  {
   "cell_type": "code",
   "execution_count": null,
   "metadata": {},
   "outputs": [],
   "source": [
    "import scipy.optimize as optimize\n",
    "from qiskit.algorithms.optimizers import ADAM, GradientDescent,CG\n",
    "import math\n",
    "import time as t\n",
    "\n",
    "inputs = {\n",
    "    \"xi\": [[4.4793, -4.0765, -4.0765], [-4.1793, -4.9218, 1.7664], [-3.9429, -0.7689, 4.8830]],\n",
    "    \"dseta\": [0, 1, 1],\n",
    "}\n",
    "\n",
    "def g(x):\n",
    "    return math.exp(x)/(1+math.exp(x))\n",
    "\n",
    "\n",
    "def y(j, w, w_0, xi):\n",
    "    x = sum((w[j-1][k-1]*xi[k-1]) for k in range(1, 4)) - w_0[j-1]\n",
    "    return g(x)\n",
    "\n",
    "\n",
    "def F(W, w, w_0, xi):\n",
    "    x = sum((W[j]*y(j, w, w_0, xi)) for j in range(1, 3)) - W[0]\n",
    "    return g(x)\n",
    "\n",
    "def E(W, w, w_0):\n",
    "    xi = inputs[\"xi\"]\n",
    "    dseta = inputs[\"dseta\"]\n",
    "    return sum(((dseta[u-1]-F(W, w, w_0, xi[u-1]))**2) for u in range(1, 4))\n",
    "\n",
    "\n",
    "def Wrapper(params):\n",
    "    w = [params[0:3], params[3:6]]\n",
    "    W = [params[6], params[7], params[8]]\n",
    "    w_0 = [params[9], params[10]]\n",
    "    return E(W, w, w_0)\n",
    "\n",
    "initial_guess=[1,1,1,1,1,1,1,1,1,1,1]"
   ]
  },
  {
   "cell_type": "code",
   "execution_count": null,
   "metadata": {},
   "outputs": [],
   "source": [
    "start_time = t.time()\n",
    "result=optimize.minimize(Wrapper,initial_guess)\n",
    "print(\"Valor óptimo para método del gradiente descendiente {}\".format(result.x))\n",
    "print(\"Error {}\".format(Wrapper(result.x)))\n",
    "print(\"Tiempo de ejecución {} s\".format(round(t.time()-start_time, 2)))"
   ]
  },
  {
   "cell_type": "code",
   "execution_count": null,
   "metadata": {},
   "outputs": [],
   "source": [
    "start_time = t.time()\n",
    "result=optimize.minimize(Wrapper,initial_guess,method='CG')\n",
    "print(\"Valor óptimo para método de gradientes conjugados {}\".format(result.x))\n",
    "print(\"Error {}\".format(Wrapper(result.x)))\n",
    "print(\"Tiempo de ejecución {} s\".format(round(t.time()-start_time, 2)))"
   ]
  },
  {
   "cell_type": "code",
   "execution_count": null,
   "metadata": {},
   "outputs": [],
   "source": [
    "start_time = t.time()\n",
    "result=ADAM().optimize(11,Wrapper,initial_point = initial_guess)\n",
    "print(\"Valor óptimo para método ADAM {}\".format(result[0]))\n",
    "print(\"Error {}\".format(Wrapper(result[0])))\n",
    "print(\"Tiempo de ejecución {} s\".format(round(t.time()-start_time, 2)))"
   ]
  }
 ],
 "metadata": {
  "language_info": {
   "name": "python"
  },
  "orig_nbformat": 4
 },
 "nbformat": 4,
 "nbformat_minor": 2
}
